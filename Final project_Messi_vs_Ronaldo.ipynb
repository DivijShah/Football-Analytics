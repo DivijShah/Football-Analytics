{
  "nbformat": 4,
  "nbformat_minor": 2,
  "metadata": {
    "colab": {
      "name": "Messi vs Ronaldo",
      "provenance": [],
      "collapsed_sections": [
        "EqQRI7c6fNo_",
        "8mAucUz7leEc",
        "uN5mt05-jG6o",
        "UnZ7IlBIfZYd",
        "5O_d1MnsK1Sg",
        "INfOvi6ELS7y",
        "BLwgTYD9K_i3",
        "zdMVvsSfMJvh",
        "TZwEH9F7L4m4",
        "F_MaMIGtMUfd",
        "jM_xLN12LD2Z",
        "wOX-pcp1Mfpr",
        "iH4XRxcsMlKd",
        "6uqbrC7tMs2C",
        "H9esDzllNQFb",
        "Ng5RxB6ANaap",
        "YE40N2ZUNivO",
        "niRBAnpIgfbq",
        "eZ10buk_M0w2",
        "7NyVmRbAgjYT",
        "FTn56RlS-lfZ",
        "LCHE6C3FBH0S",
        "tsEzkEw62BI6",
        "w6t6uSz3BMHB",
        "weSqMippgqzU",
        "lwuJwT0_FAmo",
        "8prhlUP3g1Y8",
        "u68TinXtgVxN",
        "mW_tfaHbNTFi",
        "l3wgV4CANZXy",
        "hUDGISljNdOn",
        "1j_jCSu6NxmT",
        "deyEPp0r18AT",
        "T_GeVFz31_OT",
        "HZ4eqz0mo6wW",
        "EtCVVd1nhndi",
        "W9RKXNnr1iGT",
        "hlw7uOnOSfCc",
        "w21Hy21O2G3h",
        "tQNyOpVX2Qhu",
        "7ouEFcpRPwNS",
        "IJDaB_ukRxU5"
      ]
    },
    "kernelspec": {
      "name": "python3",
      "display_name": "Python 3.8.5 64-bit ('base': conda)"
    },
    "language_info": {
      "name": "python",
      "version": "3.8.5",
      "mimetype": "text/x-python",
      "codemirror_mode": {
        "name": "ipython",
        "version": 3
      },
      "pygments_lexer": "ipython3",
      "nbconvert_exporter": "python",
      "file_extension": ".py"
    },
    "interpreter": {
      "hash": "15ab83e101a98390b7425f817ed5881c67b111b6eaf79f620c0e8344ab802a75"
    }
  },
  "cells": [
    {
      "cell_type": "markdown",
      "source": [
        "# Messi vs Ronaldo - An Analytical Debate"
      ],
      "metadata": {
        "id": "EqQRI7c6fNo_"
      }
    },
    {
      
      "metadata": {
        "id": "8mAucUz7leEc"
      }
    },
    {
      "cell_type": "markdown",
      "metadata": {
        "id": "uN5mt05-jG6o"
      }
    },
    {
      "cell_type": "markdown",
      "source": [
        "1. Get data from [Understat](https://understat.com/) for Messi and Ronaldo\n",
        "3. Data Cleaning and EDA\n",
        "3. Comparative Analysis\n",
        "3. Shot Analysis\n",
        "2. Distance Analysis\n",
        "3. The Final comparison\n",
        "3. Who Won?"
      ],
      "metadata": {
        "id": "UnZ7IlBIfZYd"
      }
    },
    {
      "cell_type": "code",
      "execution_count": 1,
      "source": [
        "# Import required libraries:\r\n",
        "import json\r\n",
        "import pandas as pd\r\n",
        "from bs4 import BeautifulSoup\r\n",
        "from urllib.request import urlopen\r\n",
        "\r\n",
        "# Import plotting libraries:\r\n",
        "import plotly.express as px\r\n",
        "import plotly.graph_objects as go\r\n",
        "from plotly.subplots import make_subplots"
      ],
      "outputs": [],
      "metadata": {
        "id": "DQDRPOiOC5pJ"
      }
    },
    {
      "cell_type": "markdown",
      "source": [
        "# Get that Data!"
      ],
      "metadata": {
        "id": "5O_d1MnsK1Sg"
      }
    },
    {
      "cell_type": "markdown",
      "source": [
        "## Cristiano Ronaldo"
      ],
      "metadata": {
        "id": "INfOvi6ELS7y"
      }
    },
    {
      "cell_type": "markdown",
      "source": [
        "### Season-wise data"
      ],
      "metadata": {
        "id": "BLwgTYD9K_i3"
      }
    },
    {
      "cell_type": "code",
      "execution_count": 8,
      "source": [
        "# Scrape Cristiano player stats:\r\n",
        "cris_scrape_url = \"https://understat.com/player/2371\"\r\n",
        "page_connect = urlopen(cris_scrape_url)\r\n",
        "page_html = BeautifulSoup(page_connect, \"html.parser\")\r\n",
        "\r\n",
        "json_raw_string = page_html.findAll(name=\"script\")[1].text\r\n",
        "start_ind = json_raw_string.index(\"\\\\\")\r\n",
        "stop_ind = json_raw_string.index(\"')\")\r\n",
        "\r\n",
        "json_data = json_raw_string[start_ind:stop_ind]\r\n",
        "json_data = json_data.encode(\"utf8\").decode(\"unicode_escape\")\r\n",
        "\r\n",
        "cris_season_wise_meta_df = pd.json_normalize(json.loads(json_data)[\"season\"])\r\n",
        "cris_season_wise_meta_df.insert(0, \"Player\", \"Cristiano\")"
      ],
      "outputs": [
        {
          "output_type": "error",
          "ename": "ValueError",
          "evalue": "substring not found",
          "traceback": [
            "\u001b[1;31m---------------------------------------------------------------------------\u001b[0m",
            "\u001b[1;31mValueError\u001b[0m                                Traceback (most recent call last)",
            "\u001b[1;32m<ipython-input-8-f64467b8dd18>\u001b[0m in \u001b[0;36m<module>\u001b[1;34m\u001b[0m\n\u001b[0;32m      5\u001b[0m \u001b[1;33m\u001b[0m\u001b[0m\n\u001b[0;32m      6\u001b[0m \u001b[0mjson_raw_string\u001b[0m \u001b[1;33m=\u001b[0m \u001b[0mpage_html\u001b[0m\u001b[1;33m.\u001b[0m\u001b[0mfindAll\u001b[0m\u001b[1;33m(\u001b[0m\u001b[0mname\u001b[0m\u001b[1;33m=\u001b[0m\u001b[1;34m\"script\"\u001b[0m\u001b[1;33m)\u001b[0m\u001b[1;33m[\u001b[0m\u001b[1;36m1\u001b[0m\u001b[1;33m]\u001b[0m\u001b[1;33m.\u001b[0m\u001b[0mtext\u001b[0m\u001b[1;33m\u001b[0m\u001b[1;33m\u001b[0m\u001b[0m\n\u001b[1;32m----> 7\u001b[1;33m \u001b[0mstart_ind\u001b[0m \u001b[1;33m=\u001b[0m \u001b[0mjson_raw_string\u001b[0m\u001b[1;33m.\u001b[0m\u001b[0mindex\u001b[0m\u001b[1;33m(\u001b[0m\u001b[1;34m\"//\"\u001b[0m\u001b[1;33m)\u001b[0m\u001b[1;33m\u001b[0m\u001b[1;33m\u001b[0m\u001b[0m\n\u001b[0m\u001b[0;32m      8\u001b[0m \u001b[0mstop_ind\u001b[0m \u001b[1;33m=\u001b[0m \u001b[0mjson_raw_string\u001b[0m\u001b[1;33m.\u001b[0m\u001b[0mindex\u001b[0m\u001b[1;33m(\u001b[0m\u001b[1;34m\"')\"\u001b[0m\u001b[1;33m)\u001b[0m\u001b[1;33m\u001b[0m\u001b[1;33m\u001b[0m\u001b[0m\n\u001b[0;32m      9\u001b[0m \u001b[1;33m\u001b[0m\u001b[0m\n",
            "\u001b[1;31mValueError\u001b[0m: substring not found"
          ]
        }
      ],
      "metadata": {
        "id": "m5tSJPhkDBku"
      }
    },
    {
      "cell_type": "code",
      "execution_count": null,
      "source": [
        "cris_season_wise_meta_df"
      ],
      "outputs": [],
      "metadata": {
        "id": "laj-UbBcsdFZ"
      }
    },
    {
      "cell_type": "markdown",
      "source": [
        "### Shots Data"
      ],
      "metadata": {
        "id": "zdMVvsSfMJvh"
      }
    },
    {
      "cell_type": "code",
      "execution_count": null,
      "source": [
        "# Scrape Cristiano shot data:\r\n",
        "json_raw_string = page_html.findAll(name=\"script\")[3].text\r\n",
        "start_ind = json_raw_string.index(\"\\\\\")\r\n",
        "stop_ind = json_raw_string.index(\"')\")\r\n",
        "\r\n",
        "json_data = json_raw_string[start_ind:stop_ind]\r\n",
        "json_data = json_data.encode(\"utf8\").decode(\"unicode_escape\")\r\n",
        "\r\n",
        "cris_shots_df = pd.json_normalize(json.loads(json_data))\r\n",
        "cris_shots_df.insert(0, \"Player\", \"Cristiano\")"
      ],
      "outputs": [],
      "metadata": {
        "id": "N-yL-WXuLGWS"
      }
    },
    {
      "cell_type": "code",
      "execution_count": null,
      "source": [
        "cris_shots_df"
      ],
      "outputs": [],
      "metadata": {
        "id": "jj46puIdlJRj"
      }
    },
    {
      "cell_type": "code",
      "execution_count": null,
      "source": [
        "cris_shots_df.shape"
      ],
      "outputs": [],
      "metadata": {
        "id": "_eBhCV6QY15u"
      }
    },
    {
      "cell_type": "markdown",
      "source": [
        "## Messi"
      ],
      "metadata": {
        "id": "TZwEH9F7L4m4"
      }
    },
    {
      "cell_type": "markdown",
      "source": [
        "### Season-wise data"
      ],
      "metadata": {
        "id": "F_MaMIGtMUfd"
      }
    },
    {
      "cell_type": "code",
      "execution_count": null,
      "source": [
        "# Scrape Messi player stats:\r\n",
        "messi_scrape_url = \"https://understat.com/player/2097\"\r\n",
        "page_connect = urlopen(messi_scrape_url)\r\n",
        "page_html = BeautifulSoup(page_connect, \"html.parser\")\r\n",
        "\r\n",
        "json_raw_string = page_html.findAll(name=\"script\")[1].text\r\n",
        "start_ind = json_raw_string.index(\"\\\\\")\r\n",
        "stop_ind = json_raw_string.index(\"')\")\r\n",
        "\r\n",
        "json_data = json_raw_string[start_ind:stop_ind]\r\n",
        "json_data = json_data.encode(\"utf8\").decode(\"unicode_escape\")\r\n",
        "\r\n",
        "messi_season_wise_meta_df = pd.json_normalize(json.loads(json_data)[\"season\"])\r\n",
        "messi_season_wise_meta_df.insert(0, \"Player\", \"Messi\")"
      ],
      "outputs": [],
      "metadata": {
        "id": "jAP7siQLzF83"
      }
    },
    {
      "cell_type": "code",
      "execution_count": null,
      "source": [
        "messi_season_wise_meta_df"
      ],
      "outputs": [],
      "metadata": {
        "id": "jVEgs2dwuRtT"
      }
    },
    {
      "cell_type": "markdown",
      "source": [
        "### Shots Data"
      ],
      "metadata": {
        "id": "jM_xLN12LD2Z"
      }
    },
    {
      "cell_type": "code",
      "execution_count": null,
      "source": [
        "# Scrape Messi shot data:\n",
        "json_raw_string = page_html.findAll(name=\"script\")[3].text\n",
        "start_ind = json_raw_string.index(\"\\\\\")\n",
        "stop_ind = json_raw_string.index(\"')\")\n",
        "\n",
        "json_data = json_raw_string[start_ind:stop_ind]\n",
        "json_data = json_data.encode(\"utf8\").decode(\"unicode_escape\")\n",
        "\n",
        "messi_shots_df = pd.json_normalize(json.loads(json_data))\n",
        "messi_shots_df.insert(0, \"Player\", \"Messi\")"
      ],
      "outputs": [],
      "metadata": {
        "id": "XH0onYm5LeH5"
      }
    },
    {
      "cell_type": "code",
      "execution_count": null,
      "source": [
        "messi_shots_df"
      ],
      "outputs": [],
      "metadata": {
        "id": "JBdouCDyRp8g"
      }
    },
    {
      "cell_type": "markdown",
      "source": [
        "## Build Final Season-level and shots data"
      ],
      "metadata": {
        "id": "wOX-pcp1Mfpr"
      }
    },
    {
      "cell_type": "code",
      "execution_count": null,
      "source": [
        "cris_season_wise_meta_df.drop(index=[0])"
      ],
      "outputs": [],
      "metadata": {
        "id": "1V6i962q4U7V"
      }
    },
    {
      "cell_type": "code",
      "execution_count": null,
      "source": [
        "cris_season_wise_meta_df.reset_index(drop=True, inplace=True)"
      ],
      "outputs": [],
      "metadata": {
        "id": "nJuX-J_t4e49"
      }
    },
    {
      "cell_type": "markdown",
      "source": [
        "### Joint Season-wise Data"
      ],
      "metadata": {
        "id": "iH4XRxcsMlKd"
      }
    },
    {
      "cell_type": "code",
      "execution_count": null,
      "source": [
        "season_wise_meta_df = cris_season_wise_meta_df.append(messi_season_wise_meta_df)\n",
        "season_wise_meta_df"
      ],
      "outputs": [],
      "metadata": {
        "id": "VesLmfFZfZdk"
      }
    },
    {
      "cell_type": "markdown",
      "source": [
        "### Joint Shots Data"
      ],
      "metadata": {
        "id": "6uqbrC7tMs2C"
      }
    },
    {
      "cell_type": "code",
      "execution_count": null,
      "source": [
        "cris_shots_df.tail()"
      ],
      "outputs": [],
      "metadata": {
        "id": "jz0GIBm644i9"
      }
    },
    {
      "cell_type": "code",
      "execution_count": null,
      "source": [
        "cris_shots_df.drop(index=[1342])"
      ],
      "outputs": [],
      "metadata": {
        "id": "ky5aYLhz5BB1"
      }
    },
    {
      "cell_type": "code",
      "execution_count": null,
      "source": [
        "cris_shots_df.drop(index=[1342], inplace=True)"
      ],
      "outputs": [],
      "metadata": {
        "id": "v0CSqsoP5Cyz"
      }
    },
    {
      "cell_type": "code",
      "execution_count": null,
      "source": [
        "shots_df = cris_shots_df.append(messi_shots_df)\n",
        "shots_df"
      ],
      "outputs": [],
      "metadata": {
        "id": "mPkt51l9MyI_"
      }
    },
    {
      "cell_type": "markdown",
      "source": [
        "# Data Cleaning and EDA"
      ],
      "metadata": {
        "id": "H9esDzllNQFb"
      }
    },
    {
      "cell_type": "markdown",
      "source": [
        "## On Season-wise data"
      ],
      "metadata": {
        "id": "Ng5RxB6ANaap"
      }
    },
    {
      "cell_type": "code",
      "execution_count": 6,
      "source": [
        "season_wise_meta_df.describe(include=\"all\")"
      ],
      "outputs": [
        {
          "output_type": "error",
          "ename": "NameError",
          "evalue": "name 'season_wise_meta_df' is not defined",
          "traceback": [
            "\u001b[1;31m---------------------------------------------------------------------------\u001b[0m",
            "\u001b[1;31mNameError\u001b[0m                                 Traceback (most recent call last)",
            "\u001b[1;32m<ipython-input-6-e29cc14056ec>\u001b[0m in \u001b[0;36m<module>\u001b[1;34m\u001b[0m\n\u001b[1;32m----> 1\u001b[1;33m \u001b[0mseason_wise_meta_df\u001b[0m\u001b[1;33m.\u001b[0m\u001b[0mdescribe\u001b[0m\u001b[1;33m(\u001b[0m\u001b[0minclude\u001b[0m\u001b[1;33m=\u001b[0m\u001b[1;34m\"all\"\u001b[0m\u001b[1;33m)\u001b[0m\u001b[1;33m\u001b[0m\u001b[1;33m\u001b[0m\u001b[0m\n\u001b[0m",
            "\u001b[1;31mNameError\u001b[0m: name 'season_wise_meta_df' is not defined"
          ]
        }
      ],
      "metadata": {
        "id": "Qyc-mxFfcd66"
      }
    },
    {
      "cell_type": "code",
      "execution_count": null,
      "source": [
        "season_wise_meta_df.info()"
      ],
      "outputs": [],
      "metadata": {
        "id": "ooqqC-imvhXr"
      }
    },
    {
      "cell_type": "code",
      "execution_count": null,
      "source": [
        "season_wise_meta_df[\"goals\"].sum()"
      ],
      "outputs": [],
      "metadata": {
        "id": "IxWn08jlMR7E"
      }
    },
    {
      "cell_type": "code",
      "execution_count": null,
      "source": [
        "season_wise_meta_df.apply(pd.to_numeric, errors=\"ignore\")"
      ],
      "outputs": [],
      "metadata": {
        "id": "fbRMm4n8O2A4"
      }
    },
    {
      "cell_type": "code",
      "execution_count": null,
      "source": [
        "season_wise_meta_df = season_wise_meta_df.apply(pd.to_numeric, errors=\"ignore\")"
      ],
      "outputs": [],
      "metadata": {
        "id": "DpN4MEubtZsF"
      }
    },
    {
      "cell_type": "code",
      "execution_count": null,
      "source": [
        "season_wise_meta_df.info()"
      ],
      "outputs": [],
      "metadata": {
        "id": "uvx01FHYSgoK"
      }
    },
    {
      "cell_type": "code",
      "execution_count": null,
      "source": [
        "season_wise_meta_df[\"goals\"].sum()"
      ],
      "outputs": [],
      "metadata": {
        "id": "qmgim04tSjeG"
      }
    },
    {
      "cell_type": "code",
      "execution_count": null,
      "source": [
        "type(season_wise_meta_df[\"goals\"].sum())"
      ],
      "outputs": [],
      "metadata": {
        "id": "NeC192_htS9E"
      }
    },
    {
      "cell_type": "code",
      "execution_count": null,
      "source": [
        "season_wise_meta_df = season_wise_meta_df.round(2)"
      ],
      "outputs": [],
      "metadata": {
        "id": "KLMjOPRP1NFX"
      }
    },
    {
      "cell_type": "code",
      "execution_count": null,
      "source": [
        "season_wise_meta_df"
      ],
      "outputs": [],
      "metadata": {
        "id": "o1y868Zeh2Qr"
      }
    },
    {
      "cell_type": "code",
      "execution_count": null,
      "source": [
        "season_wise_meta_df.describe(percentiles=[]).round(1)"
      ],
      "outputs": [],
      "metadata": {
        "id": "UR0yEmdi4Tbv"
      }
    },
    {
      "cell_type": "code",
      "execution_count": null,
      "source": [
        "shots_df.head()"
      ],
      "outputs": [],
      "metadata": {
        "id": "hWTQkC2J6x3i"
      }
    },
    {
      "cell_type": "code",
      "execution_count": null,
      "source": [
        "season_wise_meta_df"
      ],
      "outputs": [],
      "metadata": {
        "id": "uv7tAAOBsiy8"
      }
    },
    {
      "cell_type": "code",
      "execution_count": null,
      "source": [
        "pd.set_option(\"display.max_rows\", 120)"
      ],
      "outputs": [],
      "metadata": {
        "id": "2owv0LFFOwRT"
      }
    },
    {
      "cell_type": "code",
      "execution_count": null,
      "source": [
        "season_wise_meta_df.groupby([\"Player\"]).describe(percentiles=[]).T.round(1)"
      ],
      "outputs": [],
      "metadata": {
        "id": "Z7ySoiV02t90"
      }
    },
    {
      "cell_type": "markdown",
      "source": [
        "## On Shots data"
      ],
      "metadata": {
        "id": "YE40N2ZUNivO"
      }
    },
    {
      "cell_type": "code",
      "execution_count": null,
      "source": [
        "shots_df.info()"
      ],
      "outputs": [],
      "metadata": {
        "id": "9t4Xln5oNo2q"
      }
    },
    {
      "cell_type": "code",
      "execution_count": null,
      "source": [
        "shots_df = shots_df.apply(pd.to_numeric, errors=\"ignore\")"
      ],
      "outputs": [],
      "metadata": {
        "id": "oAAfNgjVNo2s"
      }
    },
    {
      "cell_type": "code",
      "execution_count": null,
      "source": [
        "shots_df = shots_df.round(2)"
      ],
      "outputs": [],
      "metadata": {
        "id": "OX8leDOFNo2s"
      }
    },
    {
      "cell_type": "code",
      "execution_count": null,
      "source": [
        "shots_df.describe(percentiles=[]).round(1)"
      ],
      "outputs": [],
      "metadata": {
        "id": "MaPoPybxNo2s"
      }
    },
    {
      "cell_type": "code",
      "execution_count": null,
      "source": [
        "shots_df"
      ],
      "outputs": [],
      "metadata": {
        "id": "99-5uDEm2b0p"
      }
    },
    {
      "cell_type": "markdown",
      "source": [
        "# Comparative Analysis"
      ],
      "metadata": {
        "id": "niRBAnpIgfbq"
      }
    },
    {
      "cell_type": "markdown",
      "source": [
        "## On Season-wise Data"
      ],
      "metadata": {
        "id": "eZ10buk_M0w2"
      }
    },
    {
      "cell_type": "code",
      "execution_count": null,
      "source": [
        "season_wise_meta_df.select_dtypes(exclude=[object]).columns"
      ],
      "outputs": [],
      "metadata": {
        "id": "YpTWKqZtQPzs"
      }
    },
    {
      "cell_type": "code",
      "execution_count": null,
      "source": [
        "num_cols = season_wise_meta_df.select_dtypes(exclude=[object]).columns"
      ],
      "outputs": [],
      "metadata": {
        "id": "cnJ6izyhST6v"
      }
    },
    {
      "cell_type": "code",
      "execution_count": null,
      "source": [
        "num_cols"
      ],
      "outputs": [],
      "metadata": {
        "id": "xTZLPsedIvJ6"
      }
    },
    {
      "cell_type": "code",
      "execution_count": null,
      "source": [
        "num_cols.__len__()"
      ],
      "outputs": [],
      "metadata": {
        "id": "VMYCZGuIXuzj"
      }
    },
    {
      "cell_type": "code",
      "execution_count": null,
      "source": [
        "len(num_cols)"
      ],
      "outputs": [],
      "metadata": {
        "id": "8VXj-jOMX0kH"
      }
    },
    {
      "cell_type": "code",
      "execution_count": null,
      "source": [
        "season_wise_meta_df.groupby([\"Player\"])[num_cols].sum()"
      ],
      "outputs": [],
      "metadata": {
        "id": "9_XlOcmdpG3J"
      }
    },
    {
      "cell_type": "code",
      "execution_count": null,
      "source": [
        "season_wise_meta_df.groupby([\"Player\"])[num_cols].sum().reset_index()"
      ],
      "outputs": [],
      "metadata": {
        "id": "OWukozwKQt1Q"
      }
    },
    {
      "cell_type": "code",
      "execution_count": null,
      "source": [
        "total_df = season_wise_meta_df.groupby([\"Player\"])[num_cols].sum().round(1).reset_index()"
      ],
      "outputs": [],
      "metadata": {
        "id": "kZUQ4SrENibA"
      }
    },
    {
      "cell_type": "code",
      "execution_count": null,
      "source": [
        "total_df"
      ],
      "outputs": [],
      "metadata": {
        "id": "Mydc58_hav7q"
      }
    },
    {
      "cell_type": "markdown",
      "source": [
        "### CA on Totals (Consolidated data for all seasons per player)"
      ],
      "metadata": {
        "id": "7NyVmRbAgjYT"
      }
    },
    {
      "cell_type": "code",
      "execution_count": null,
      "source": [
        "i = j = 1\n",
        "# Create an empty subplot:\n",
        "fig = make_subplots(rows=3, cols=5,\n",
        "                    shared_xaxes=False,\n",
        "                    vertical_spacing=0.1,\n",
        "                    subplot_titles=num_cols)\n",
        "# Add bar plot for goals conceded in all subplots:\n",
        "for col in num_cols:\n",
        "    fig.add_trace(go.Bar(x=total_df[\"Player\"],\n",
        "                        y=total_df[col],\n",
        "                        text=total_df[col],\n",
        "                        textposition=\"inside\",\n",
        "                        name=col),\n",
        "                row=i, col=j)\n",
        "    j += 1\n",
        "    if j > 5:\n",
        "        j = 1\n",
        "        i += 1\n",
        "fig.update_layout(height=800)\n",
        "fig.show()"
      ],
      "outputs": [],
      "metadata": {
        "id": "dd4dwj2wXkmd"
      }
    },
    {
      "cell_type": "markdown",
      "source": [
        "NOTE: On xGChain and xGBuildup \\\\\n",
        "xGChain --> Calculating xG for possessions that lead to a shot where the player was involved at least once in that possession, **INCLUDING** the final pass or the shot. \\\\\n",
        "xGBuildup --> Calculating xG for possessions that lead to a shot where the player was involved at least once in that possession, **EXCLUDING** the final pass or the shot. \\\\"
      ],
      "metadata": {
        "id": "Iwwy_yFRaN0m"
      }
    },
    {
      "cell_type": "markdown",
      "source": [
        "### Feature Engineering"
      ],
      "metadata": {
        "id": "FTn56RlS-lfZ"
      }
    },
    {
      "cell_type": "code",
      "execution_count": null,
      "source": [
        "season_wise_meta_df.columns"
      ],
      "outputs": [],
      "metadata": {
        "id": "yvjUTYWq2Fwn"
      }
    },
    {
      "cell_type": "code",
      "execution_count": null,
      "source": [
        "season_wise_meta_df[\"xGDiff\"] = season_wise_meta_df[\"goals\"].sub(season_wise_meta_df[\"xG\"]).round(2)\n",
        "\n",
        "season_wise_meta_df[\"goal_contrib\"] = season_wise_meta_df[\"goals\"].add(season_wise_meta_df[\"assists\"]).round(1)\n",
        "\n",
        "season_wise_meta_df[\"xgoal_contrib\"] = season_wise_meta_df[\"xG\"].add(season_wise_meta_df[\"xA\"]).round(1)\n",
        "\n",
        "season_wise_meta_df[\"shot_contrib\"] = season_wise_meta_df[[\"shots\", \"key_passes\", \"assists\"]].sum(axis=1).round(1)"
      ],
      "outputs": [],
      "metadata": {
        "id": "1-Jw7xcC9no6"
      }
    },
    {
      "cell_type": "code",
      "execution_count": null,
      "source": [
        "num_cols = num_cols.tolist() + [\"xGDiff\", \"goal_contrib\", \"xgoal_contrib\", \"shot_contrib\"]"
      ],
      "outputs": [],
      "metadata": {
        "id": "i0B5L22z--eA"
      }
    },
    {
      "cell_type": "code",
      "execution_count": null,
      "source": [
        "num_cols"
      ],
      "outputs": [],
      "metadata": {
        "id": "1g-ZDf-L_1qV"
      }
    },
    {
      "cell_type": "code",
      "execution_count": null,
      "source": [
        "num_cols = [col for col in num_cols if col not in [\"season\", \"yellow\", \"red\", \"games\"]]"
      ],
      "outputs": [],
      "metadata": {
        "id": "BgzxkY7w_OJN"
      }
    },
    {
      "cell_type": "code",
      "execution_count": null,
      "source": [
        "num_cols"
      ],
      "outputs": [],
      "metadata": {
        "id": "Jcc23rhDgMZK"
      }
    },
    {
      "cell_type": "code",
      "execution_count": null,
      "source": [
        "total_df = season_wise_meta_df.groupby([\"Player\"])[num_cols].sum().round(1).reset_index()"
      ],
      "outputs": [],
      "metadata": {
        "id": "mYygfKEL-zsM"
      }
    },
    {
      "cell_type": "code",
      "execution_count": null,
      "source": [
        "num_cols.__len__()"
      ],
      "outputs": [],
      "metadata": {
        "id": "xzmWVSI5_M8c"
      }
    },
    {
      "cell_type": "markdown",
      "source": [
        "### CA on Totals - Updated"
      ],
      "metadata": {
        "id": "LCHE6C3FBH0S"
      }
    },
    {
      "cell_type": "code",
      "execution_count": null,
      "source": [
        "i = j = 1\n",
        "# Create an empty subplot:\n",
        "fig = make_subplots(rows=3, cols=5,\n",
        "                    shared_xaxes=False,\n",
        "                    vertical_spacing=0.1,\n",
        "                    subplot_titles=num_cols)\n",
        "# Add bar plot for goals conceded in all subplots:\n",
        "for col in num_cols:\n",
        "    fig.add_trace(go.Bar(x=total_df[\"Player\"],\n",
        "                        y=total_df[col],\n",
        "                        text=total_df[col],\n",
        "                        textposition=\"inside\",\n",
        "                        name=col),\n",
        "                row=i, col=j)\n",
        "    j += 1\n",
        "    if j > 5:\n",
        "        j = 1\n",
        "        i += 1\n",
        "fig.update_layout(height=800)\n",
        "fig.show()"
      ],
      "outputs": [],
      "metadata": {
        "id": "Gm82bWKOAUTO"
      }
    },
    {
      "cell_type": "markdown",
      "source": [
        "### Per 90 Stats"
      ],
      "metadata": {
        "id": "tsEzkEw62BI6"
      }
    },
    {
      "cell_type": "code",
      "execution_count": null,
      "source": [
        "for col in num_cols:\n",
        "    total_df[col + \"_p90\"] = total_df[col].divide(total_df[\"time\"]).multiply(90).round(2)"
      ],
      "outputs": [],
      "metadata": {
        "id": "o5XrKg9u-b8c"
      }
    },
    {
      "cell_type": "code",
      "execution_count": null,
      "source": [
        "per_90_cols = [col + \"_p90\" for col in num_cols if col != \"time\"]"
      ],
      "outputs": [],
      "metadata": {
        "id": "3S80pczpCW72"
      }
    },
    {
      "cell_type": "code",
      "execution_count": null,
      "source": [
        "len(per_90_cols)"
      ],
      "outputs": [],
      "metadata": {
        "id": "W8jE1iGfChVb"
      }
    },
    {
      "cell_type": "markdown",
      "source": [
        "### CA on Totals - Updated"
      ],
      "metadata": {
        "id": "w6t6uSz3BMHB"
      }
    },
    {
      "cell_type": "code",
      "execution_count": null,
      "source": [
        "i = j = 1\n",
        "# Create an empty subplot:\n",
        "fig = make_subplots(rows=3, cols=5,\n",
        "                    shared_xaxes=False,\n",
        "                    vertical_spacing=0.1,\n",
        "                    subplot_titles=per_90_cols)\n",
        "# Add bar plot for goals conceded in all subplots:\n",
        "for col in per_90_cols:\n",
        "    fig.add_trace(go.Bar(x=total_df[\"Player\"],\n",
        "                        y=total_df[col],\n",
        "                        text=total_df[col],\n",
        "                        textposition=\"inside\",\n",
        "                        name=col),\n",
        "                row=i, col=j)\n",
        "    j += 1\n",
        "    if j > 5:\n",
        "        j = 1\n",
        "        i += 1\n",
        "fig.update_layout(height=800)\n",
        "fig.show()"
      ],
      "outputs": [],
      "metadata": {
        "id": "eCJ1AbENCfQT"
      }
    },
    {
      "cell_type": "markdown",
      "source": [
        "### CA on Season-wise stats (Consolidated data per season per player)"
      ],
      "metadata": {
        "id": "weSqMippgqzU"
      }
    },
    {
      "cell_type": "code",
      "execution_count": null,
      "source": [
        "i = j = 1\n",
        "# Create an empty subplot:\n",
        "fig = make_subplots(rows=3, cols=5,\n",
        "                    shared_xaxes=False,\n",
        "                    vertical_spacing=0.1,\n",
        "                    subplot_titles=num_cols)\n",
        "# Add bar plot for goals conceded in all subplots:\n",
        "for col in num_cols:\n",
        "    cris_plot_data = season_wise_meta_df.loc[season_wise_meta_df[\"Player\"] == \"Cristiano\"]\n",
        "    fig.add_trace(go.Bar(x=cris_plot_data[\"season\"],\n",
        "                         y=cris_plot_data[col],\n",
        "                         text=cris_plot_data[col],\n",
        "                         textposition=\"inside\",\n",
        "                         name=col + \"(Cris)\"),\n",
        "                row=i, col=j)\n",
        "    messi_plot_data = season_wise_meta_df.loc[season_wise_meta_df[\"Player\"] == \"Messi\"]\n",
        "    fig.add_trace(go.Bar(x=messi_plot_data[\"season\"],\n",
        "                        y=messi_plot_data[col],\n",
        "                        text=messi_plot_data[col],\n",
        "                        textposition=\"inside\",\n",
        "                        name=col + \"(Messi)\"),\n",
        "            row=i, col=j)\n",
        "\n",
        "    j += 1\n",
        "    if j > 5:\n",
        "        j = 1\n",
        "        i += 1\n",
        "fig.update_layout(height=800, barmode=\"stack\")\n",
        "fig.show()"
      ],
      "outputs": [],
      "metadata": {
        "id": "w8vXKosbb1i-"
      }
    },
    {
      "cell_type": "markdown",
      "source": [
        "### Per 90 Stats (Season-wise)"
      ],
      "metadata": {
        "id": "lwuJwT0_FAmo"
      }
    },
    {
      "cell_type": "code",
      "execution_count": null,
      "source": [
        "for col in num_cols:\n",
        "    season_wise_meta_df[col + \"_p90\"] = season_wise_meta_df[col].divide(season_wise_meta_df[\"time\"]).multiply(90).round(2)"
      ],
      "outputs": [],
      "metadata": {
        "id": "n3nabjgdFA3e"
      }
    },
    {
      "cell_type": "code",
      "execution_count": null,
      "source": [
        "per_90_cols = [col + \"_p90\" for col in num_cols if col != \"time\"]"
      ],
      "outputs": [],
      "metadata": {
        "id": "MF9oURUBFA3e"
      }
    },
    {
      "cell_type": "code",
      "execution_count": null,
      "source": [
        "len(per_90_cols)"
      ],
      "outputs": [],
      "metadata": {
        "id": "uZYfuIctFA3f"
      }
    },
    {
      "cell_type": "code",
      "execution_count": null,
      "source": [
        "i = j = 1\n",
        "# Create an empty subplot:\n",
        "fig = make_subplots(rows=3, cols=5,\n",
        "                    shared_xaxes=False,\n",
        "                    vertical_spacing=0.1,\n",
        "                    subplot_titles=per_90_cols)\n",
        "# Add bar plot for goals conceded in all subplots:\n",
        "for col in per_90_cols:\n",
        "    cris_plot_data = season_wise_meta_df.loc[season_wise_meta_df[\"Player\"] == \"Cristiano\"]\n",
        "    fig.add_trace(go.Bar(x=cris_plot_data[\"season\"],\n",
        "                         y=cris_plot_data[col],\n",
        "                         text=cris_plot_data[col],\n",
        "                         textposition=\"inside\",\n",
        "                         name=col + \"(Cris)\"),\n",
        "                row=i, col=j)\n",
        "    messi_plot_data = season_wise_meta_df.loc[season_wise_meta_df[\"Player\"] == \"Messi\"]\n",
        "    fig.add_trace(go.Bar(x=messi_plot_data[\"season\"],\n",
        "                        y=messi_plot_data[col],\n",
        "                        text=messi_plot_data[col],\n",
        "                        textposition=\"inside\",\n",
        "                        name=col + \"(Messi)\"),\n",
        "            row=i, col=j)\n",
        "\n",
        "    j += 1\n",
        "    if j > 5:\n",
        "        j = 1\n",
        "        i += 1\n",
        "fig.update_layout(height=800, barmode=\"stack\")\n",
        "fig.show()"
      ],
      "outputs": [],
      "metadata": {
        "id": "JK9EGWl_FOg0"
      }
    },
    {
      "cell_type": "markdown",
      "source": [
        "## On Shots Data"
      ],
      "metadata": {
        "id": "8prhlUP3g1Y8"
      }
    },
    {
      "cell_type": "markdown",
      "source": [
        "#### CA on Totals"
      ],
      "metadata": {
        "id": "u68TinXtgVxN"
      }
    },
    {
      "cell_type": "code",
      "execution_count": null,
      "source": [
        "shots_df.head()"
      ],
      "outputs": [],
      "metadata": {
        "id": "4V68BC78hBap"
      }
    },
    {
      "cell_type": "code",
      "execution_count": null,
      "source": [
        "shots_df[\"result\"].unique()"
      ],
      "outputs": [],
      "metadata": {
        "id": "L4wiEJppg8xF"
      }
    },
    {
      "cell_type": "code",
      "execution_count": null,
      "source": [
        "shots_df.columns"
      ],
      "outputs": [],
      "metadata": {
        "id": "07osTsOIM9fU"
      }
    },
    {
      "cell_type": "code",
      "execution_count": null,
      "source": [
        "shot_cols = [\"result\", \"situation\", \"shotType\"]"
      ],
      "outputs": [],
      "metadata": {
        "id": "E3yAjl7RM6a0"
      }
    },
    {
      "cell_type": "code",
      "execution_count": null,
      "source": [
        "plot_df = shots_df.groupby([\"Player\", \"result\"]).agg({\"result\": \"count\"})"
      ],
      "outputs": [],
      "metadata": {
        "id": "KWsw9hiiOC5K"
      }
    },
    {
      "cell_type": "code",
      "execution_count": null,
      "source": [
        "plot_df.name = \"total\""
      ],
      "outputs": [],
      "metadata": {
        "id": "JFoGXMeOOOew"
      }
    },
    {
      "cell_type": "code",
      "execution_count": null,
      "source": [
        "i = j = 1\n",
        "# Create an empty subplot:\n",
        "fig = make_subplots(rows=1, cols=3,\n",
        "                    shared_xaxes=False,\n",
        "                    vertical_spacing=0.1,\n",
        "                    subplot_titles=shot_cols)\n",
        "# Add bar plot for goals conceded in all subplots:\n",
        "for col in shot_cols:\n",
        "    fig.add_trace(go.Histogram(x=cris_shots_df[col],\n",
        "                               text=cris_shots_df[col],\n",
        "                               name=col + \"(Cris)\"),\n",
        "                  row=i, col=j)\n",
        "    fig.add_trace(go.Histogram(x=messi_shots_df[col],\n",
        "                            text=messi_shots_df[col],\n",
        "                            name=col + \"(Messi)\"),\n",
        "                row=i, col=j)\n",
        "\n",
        "    j += 1\n",
        "    if j > 3:\n",
        "        j = 1\n",
        "        i += 1\n",
        "fig.update_layout(height=400, barmode=\"group\")\n",
        "fig.show()"
      ],
      "outputs": [],
      "metadata": {
        "id": "CkSC_KWRM5us"
      }
    },
    {
      "cell_type": "markdown",
      "source": [
        "### CA on Per90"
      ],
      "metadata": {
        "id": "mW_tfaHbNTFi"
      }
    },
    {
      "cell_type": "code",
      "execution_count": null,
      "source": [
        "cris_time = total_df.loc[total_df[\"Player\"] == \"Cristiano\", \"time\"].item()\n",
        "messi_time = total_df.loc[total_df[\"Player\"] == \"Messi\", \"time\"].item()"
      ],
      "outputs": [],
      "metadata": {
        "id": "grryWrFwQPAp"
      }
    },
    {
      "cell_type": "code",
      "execution_count": null,
      "source": [
        "cris_time"
      ],
      "outputs": [],
      "metadata": {
        "id": "TxFzq8BCQd2Q"
      }
    },
    {
      "cell_type": "code",
      "execution_count": null,
      "source": [
        "cris_shots_df[\"result\"].value_counts().reset_index()"
      ],
      "outputs": [],
      "metadata": {
        "id": "XbK2hntfQs8U"
      }
    },
    {
      "cell_type": "code",
      "execution_count": null,
      "source": [
        "i = j = 1\n",
        "# Create an empty subplot:\n",
        "fig = make_subplots(rows=1, cols=3,\n",
        "                    shared_xaxes=False,\n",
        "                    vertical_spacing=0.1,\n",
        "                    subplot_titles=shot_cols)\n",
        "# Add bar plot for goals conceded in all subplots:\n",
        "for col in shot_cols:\n",
        "    cris_plot_df = cris_shots_df[col].value_counts().reset_index()\n",
        "    cris_plot_df[col + \"_p90\"] = cris_plot_df[col].divide(cris_time).multiply(90).round(1)\n",
        "    fig.add_trace(go.Bar(x=cris_plot_df[\"index\"],\n",
        "                         y=cris_plot_df[col + \"_p90\"],\n",
        "                         text=cris_plot_df[col + \"_p90\"],\n",
        "                         textposition=\"inside\",\n",
        "                         name=col),\n",
        "                  row=i, col=j)\n",
        "\n",
        "    messi_plot_df = messi_shots_df[col].value_counts().reset_index()\n",
        "    messi_plot_df[col + \"_p90\"] = messi_plot_df[col].divide(messi_time).multiply(90).round(1)\n",
        "    fig.add_trace(go.Bar(x=messi_plot_df[\"index\"],\n",
        "                         y=messi_plot_df[col + \"_p90\"],\n",
        "                         text=messi_plot_df[col + \"_p90\"],\n",
        "                         textposition=\"inside\",\n",
        "                         name=col),\n",
        "                  row=i, col=j)\n",
        "\n",
        "    j += 1\n",
        "    if j > 3:\n",
        "        j = 1\n",
        "        i += 1\n",
        "fig.update_layout(height=400, barmode=\"group\")\n",
        "fig.show()"
      ],
      "outputs": [],
      "metadata": {
        "id": "ZRLMeSp6Qf9o"
      }
    },
    {
      "cell_type": "markdown",
      "source": [
        "### CA on Percentages"
      ],
      "metadata": {
        "id": "l3wgV4CANZXy"
      }
    },
    {
      "cell_type": "code",
      "execution_count": null,
      "source": [
        "i = j = 1\n",
        "# Create an empty subplot:\n",
        "fig = make_subplots(rows=1, cols=3,\n",
        "                    shared_xaxes=False,\n",
        "                    vertical_spacing=0.1,\n",
        "                    subplot_titles=shot_cols)\n",
        "# Add bar plot for goals conceded in all subplots:\n",
        "for col in shot_cols:\n",
        "    cris_plot_df = cris_shots_df[col].value_counts(normalize=True).multiply(100).round(1).reset_index()\n",
        "    fig.add_trace(go.Bar(x=cris_plot_df[\"index\"],\n",
        "                         y=cris_plot_df[col],\n",
        "                         text=cris_plot_df[col].apply(lambda x: '{0:1.2f}%'.format(x)),\n",
        "                         textposition=\"inside\",\n",
        "                         name=col + \"(Cris)\"),\n",
        "                  row=i, col=j)\n",
        "\n",
        "    messi_plot_df = messi_shots_df[col].value_counts(normalize=True).multiply(100).round(1).reset_index()\n",
        "    fig.add_trace(go.Bar(x=messi_plot_df[\"index\"],\n",
        "                         y=messi_plot_df[col],\n",
        "                         text=messi_plot_df[col].apply(lambda x: '{0:1.2f}%'.format(x)),\n",
        "                         textposition=\"inside\",\n",
        "                         name=col+ \"(Messi)\"),\n",
        "                  row=i, col=j)\n",
        "\n",
        "    j += 1\n",
        "    if j > 3:\n",
        "        j = 1\n",
        "        i += 1\n",
        "fig.update_layout(height=400, barmode=\"group\",\n",
        "                  plot_bgcolor=\"#383838\",\n",
        "                  template=\"plotly_dark\")\n",
        "fig.update_xaxes(showgrid=False)\n",
        "fig.update_yaxes(showgrid=False)\n",
        "fig.show()"
      ],
      "outputs": [],
      "metadata": {
        "id": "SFOQ9_GFS_jg"
      }
    },
    {
      "cell_type": "code",
      "execution_count": null,
      "source": [
        "cris_shots_df.shape"
      ],
      "outputs": [],
      "metadata": {
        "id": "hzORElCLTyBM"
      }
    },
    {
      "cell_type": "markdown",
      "source": [
        "# Trivia Time! "
      ],
      "metadata": {
        "id": "hUDGISljNdOn"
      }
    },
    {
      "cell_type": "code",
      "execution_count": 5,
      "source": [
        "fig = px.histogram(data_frame=shots_df, x=\"player_assisted\", color=\"Player\",\r\n",
        "             barmode=\"group\", title=\"Assisting Player Comparison\",\r\n",
        "             labels={\"result\": \"\", \"count\": \"\"})\r\n",
        "fig.update_layout(xaxis={\"tickmode\": \"linear\"})"
      ],
      "outputs": [
        {
          "output_type": "error",
          "ename": "NameError",
          "evalue": "name 'shots_df' is not defined",
          "traceback": [
            "\u001b[1;31m---------------------------------------------------------------------------\u001b[0m",
            "\u001b[1;31mNameError\u001b[0m                                 Traceback (most recent call last)",
            "\u001b[1;32m<ipython-input-5-04940254f7dc>\u001b[0m in \u001b[0;36m<module>\u001b[1;34m\u001b[0m\n\u001b[1;32m----> 1\u001b[1;33m fig = px.histogram(data_frame=shots_df, x=\"player_assisted\", color=\"Player\",\n\u001b[0m\u001b[0;32m      2\u001b[0m              \u001b[0mbarmode\u001b[0m\u001b[1;33m=\u001b[0m\u001b[1;34m\"group\"\u001b[0m\u001b[1;33m,\u001b[0m \u001b[0mtitle\u001b[0m\u001b[1;33m=\u001b[0m\u001b[1;34m\"Assisting Player Comparison\"\u001b[0m\u001b[1;33m,\u001b[0m\u001b[1;33m\u001b[0m\u001b[1;33m\u001b[0m\u001b[0m\n\u001b[0;32m      3\u001b[0m              labels={\"result\": \"\", \"count\": \"\"})\n\u001b[0;32m      4\u001b[0m \u001b[0mfig\u001b[0m\u001b[1;33m.\u001b[0m\u001b[0mupdate_layout\u001b[0m\u001b[1;33m(\u001b[0m\u001b[0mxaxis\u001b[0m\u001b[1;33m=\u001b[0m\u001b[1;33m{\u001b[0m\u001b[1;34m\"tickmode\"\u001b[0m\u001b[1;33m:\u001b[0m \u001b[1;34m\"linear\"\u001b[0m\u001b[1;33m}\u001b[0m\u001b[1;33m)\u001b[0m\u001b[1;33m\u001b[0m\u001b[1;33m\u001b[0m\u001b[0m\n",
            "\u001b[1;31mNameError\u001b[0m: name 'shots_df' is not defined"
          ]
        }
      ],
      "metadata": {
        "id": "4c6BCVUtmwU8"
      }
    },
    {
      "cell_type": "markdown",
      "source": [
        "# Shot Analysis"
      ],
      "metadata": {
        "id": "1j_jCSu6NxmT"
      }
    },
    {
      "cell_type": "markdown",
      "source": [
        "## Data Preparation"
      ],
      "metadata": {
        "id": "deyEPp0r18AT"
      }
    },
    {
      "cell_type": "code",
      "execution_count": null,
      "source": [
        "!pip install mplsoccer"
      ],
      "outputs": [],
      "metadata": {
        "id": "ABGUaZHLkj3Q"
      }
    },
    {
      "cell_type": "code",
      "execution_count": null,
      "source": [
        "import mplsoccer"
      ],
      "outputs": [],
      "metadata": {
        "id": "_rVN30nJkhPT"
      }
    },
    {
      "cell_type": "code",
      "execution_count": null,
      "source": [
        "pitch = mplsoccer.Pitch(pitch_type=\"wyscout\")\n",
        "fig, ax = pitch.draw(figsize=(14, 6))"
      ],
      "outputs": [],
      "metadata": {
        "id": "83lLgaBfku9o"
      }
    },
    {
      "cell_type": "code",
      "execution_count": null,
      "source": [
        "shots_df[\"X\"] = shots_df[\"X\"].multiply(100)\n",
        "shots_df[\"Y\"] = shots_df[\"Y\"].multiply(100)"
      ],
      "outputs": [],
      "metadata": {
        "id": "gBRUxVwaQcUz"
      }
    },
    {
      "cell_type": "code",
      "execution_count": null,
      "source": [
        "crisPlotData = shots_df[shots_df[\"Player\"] == \"Cristiano\"].copy(deep=True)"
      ],
      "outputs": [],
      "metadata": {
        "id": "FcexNkLMf90K"
      }
    },
    {
      "cell_type": "code",
      "execution_count": null,
      "source": [
        "messiPlotData = shots_df[shots_df[\"Player\"] == \"Messi\"].copy(deep=True)"
      ],
      "outputs": [],
      "metadata": {
        "id": "h8iGmZ0Cf9Tz"
      }
    },
    {
      "cell_type": "markdown",
      "source": [
        "## Plot HeatMaps"
      ],
      "metadata": {
        "id": "T_GeVFz31_OT"
      }
    },
    {
      "cell_type": "code",
      "execution_count": null,
      "source": [
        "from scipy.ndimage import gaussian_filter"
      ],
      "outputs": [],
      "metadata": {
        "id": "MB0Kv60ds_u8"
      }
    },
    {
      "cell_type": "code",
      "execution_count": null,
      "source": [
        "pitch = mplsoccer.VerticalPitch(pitch_type=\"wyscout\",\n",
        "                                line_color='white',\n",
        "                                line_zorder=2,\n",
        "                                pitch_color='#101010',\n",
        "                                half=True)\n",
        "fig, ax = pitch.draw(figsize=(8, 8))\n",
        "bin_statistic = pitch.bin_statistic(crisPlotData[\"X\"],\n",
        "                                    crisPlotData[\"Y\"],\n",
        "                                    statistic='count', bins=(35, 35))\n",
        "bin_statistic['statistic'] = gaussian_filter(bin_statistic['statistic'], 1)\n",
        "pcm = pitch.heatmap(bin_statistic, ax=ax,\n",
        "                    cmap='hot', edgecolors='#22312b')\n",
        "ax.set_title(\"Cristiano Shot HeatMap\", fontsize=30)"
      ],
      "outputs": [],
      "metadata": {
        "id": "Ny8cD-hzsZKo"
      }
    },
    {
      "cell_type": "code",
      "execution_count": null,
      "source": [
        "pitch = mplsoccer.VerticalPitch(pitch_type=\"wyscout\",\n",
        "                                line_color='white',\n",
        "                                line_zorder=2,\n",
        "                                pitch_color='#101010',\n",
        "                                half=True)\n",
        "fig, ax = pitch.draw(figsize=(8, 8))\n",
        "bin_statistic = pitch.bin_statistic(messiPlotData[\"X\"],\n",
        "                                    messiPlotData[\"Y\"],\n",
        "                                    statistic='count', bins=(35, 35))\n",
        "bin_statistic['statistic'] = gaussian_filter(bin_statistic['statistic'], 1)\n",
        "pcm = pitch.heatmap(bin_statistic, ax=ax,\n",
        "                    cmap='hot', edgecolors='#22312b')\n",
        "ax.set_title(\"Messi Shot HeatMap\", fontsize=30)"
      ],
      "outputs": [],
      "metadata": {
        "id": "ttrRXtijwN8d"
      }
    },
    {
      "cell_type": "code",
      "execution_count": null,
      "source": [
        "pitch = mplsoccer.VerticalPitch(pitch_type=\"wyscout\",\n",
        "                                line_color='white',\n",
        "                                line_zorder=2,\n",
        "                                pitch_color='#101010',\n",
        "                                half=True)\n",
        "fig, axs = pitch.grid(nrows=1, ncols=2,\n",
        "                     endnote_height=0.03, endnote_space=0,\n",
        "                      grid_width=0.88, left=0.025,\n",
        "                      title_height=0.06, title_space=0,\n",
        "                      axis=False,\n",
        "                      grid_height=0.86)\n",
        "\n",
        "# Cristiano:\n",
        "ax = axs[\"pitch\"][0]\n",
        "bin_statistic = pitch.bin_statistic(crisPlotData[\"X\"],\n",
        "                                    crisPlotData[\"Y\"],\n",
        "                                    statistic='count', bins=(35, 35))\n",
        "bin_statistic['statistic'] = gaussian_filter(bin_statistic['statistic'], 1)\n",
        "pcm = pitch.heatmap(bin_statistic, ax=ax,\n",
        "                    cmap='coolwarm', edgecolors='#22312b')\n",
        "ax.set_title(\"Cristiano Shot HeatMap\", fontsize=30)\n",
        "\n",
        "# Messi:\n",
        "ax = axs[\"pitch\"][1]\n",
        "bin_statistic = pitch.bin_statistic(messiPlotData[\"X\"],\n",
        "                                    messiPlotData[\"Y\"],\n",
        "                                    statistic='count', bins=(35, 35))\n",
        "bin_statistic['statistic'] = gaussian_filter(bin_statistic['statistic'], 1)\n",
        "pcm = pitch.heatmap(bin_statistic, ax=ax,\n",
        "                    cmap='coolwarm', edgecolors='#22312b')\n",
        "ax.set_title(\"Messi Shot HeatMap\", fontsize=30)"
      ],
      "outputs": [],
      "metadata": {
        "id": "wLrPtGbaxgL6"
      }
    },
    {
      "cell_type": "code",
      "execution_count": null,
      "source": [
        "shots_df.situation.unique()"
      ],
      "outputs": [],
      "metadata": {
        "id": "VS_Scc0QhFJ5"
      }
    },
    {
      "cell_type": "code",
      "execution_count": null,
      "source": [
        "\"\"\" Shot Heatmaps (excluding penalties) \"\"\"\n",
        "wopCrisPlotData = crisPlotData.loc[crisPlotData[\"situation\"] != \"Penalty\"].copy(deep=True)\n",
        "wopMessiPlotData = messiPlotData.loc[messiPlotData[\"situation\"] != \"Penalty\"].copy(deep=True)\n",
        "\n",
        "pitch = mplsoccer.VerticalPitch(pitch_type=\"wyscout\",\n",
        "                                line_color='white',\n",
        "                                line_zorder=2,\n",
        "                                pitch_color='#101010',\n",
        "                                half=True)\n",
        "fig, axs = pitch.grid(nrows=1, ncols=2,\n",
        "                     endnote_height=0.03, endnote_space=0,\n",
        "                      grid_width=0.88, left=0.025,\n",
        "                      title_height=0.06, title_space=0,\n",
        "                      axis=False,\n",
        "                      grid_height=0.86)\n",
        "\n",
        "# Cristiano:\n",
        "ax = axs[\"pitch\"][0]\n",
        "bin_statistic = pitch.bin_statistic(wopCrisPlotData[\"X\"],\n",
        "                                    wopCrisPlotData[\"Y\"],\n",
        "                                    statistic='count', bins=(35, 35))\n",
        "bin_statistic['statistic'] = gaussian_filter(bin_statistic['statistic'], 1)\n",
        "pcm = pitch.heatmap(bin_statistic, ax=ax,\n",
        "                    cmap='coolwarm', edgecolors='#22312b')\n",
        "ax.set_title(\"Cristiano Shot HeatMap\", fontsize=30)\n",
        "\n",
        "# Messi:\n",
        "ax = axs[\"pitch\"][1]\n",
        "bin_statistic = pitch.bin_statistic(wopMessiPlotData[\"X\"],\n",
        "                                    wopMessiPlotData[\"Y\"],\n",
        "                                    statistic='count', bins=(35, 35))\n",
        "bin_statistic['statistic'] = gaussian_filter(bin_statistic['statistic'], 1)\n",
        "pcm = pitch.heatmap(bin_statistic, ax=ax,\n",
        "                    cmap='coolwarm', edgecolors='#22312b')\n",
        "ax.set_title(\"Messi Shot HeatMap\", fontsize=30)"
      ],
      "outputs": [],
      "metadata": {
        "id": "XX-sw8o50t5y"
      }
    },
    {
      "cell_type": "code",
      "execution_count": null,
      "source": [
        "\"\"\" Shot Heatmaps (including and excluding penalties) \"\"\"\n",
        "pitch = mplsoccer.VerticalPitch(pitch_type=\"wyscout\",\n",
        "                                line_color='white',\n",
        "                                line_zorder=2,\n",
        "                                pitch_color='#101010',\n",
        "                                half=True)\n",
        "fig, axs = pitch.grid(nrows=2, ncols=2,\n",
        "                      endnote_height=0.01, endnote_space=0,\n",
        "                      grid_width=0.95, left=0.02,\n",
        "                      title_height=0.04, title_space=0,\n",
        "                      axis=False,\n",
        "                      grid_height=0.95)\n",
        "\n",
        "# Cristiano with pen:\n",
        "ax = axs[\"pitch\"][0, 0]\n",
        "bin_statistic = pitch.bin_statistic(crisPlotData[\"X\"],\n",
        "                                    crisPlotData[\"Y\"],\n",
        "                                    statistic='count', bins=(35, 35))\n",
        "bin_statistic['statistic'] = gaussian_filter(bin_statistic['statistic'], 1)\n",
        "pcm = pitch.heatmap(bin_statistic, ax=ax,\n",
        "                    cmap='coolwarm', edgecolors='#22312b')\n",
        "ax.set_title(\"Cristiano Shot HeatMap (All Shots)\", fontsize=20)\n",
        "\n",
        "# Messi with pen:\n",
        "ax = axs[\"pitch\"][0, 1]\n",
        "bin_statistic = pitch.bin_statistic(messiPlotData[\"X\"],\n",
        "                                    messiPlotData[\"Y\"],\n",
        "                                    statistic='count', bins=(35, 35))\n",
        "bin_statistic['statistic'] = gaussian_filter(bin_statistic['statistic'], 1)\n",
        "pcm = pitch.heatmap(bin_statistic, ax=ax,\n",
        "                    cmap='coolwarm', edgecolors='#22312b')\n",
        "ax.set_title(\"Messi Shot HeatMap (All Shots)\", fontsize=20)\n",
        "\n",
        "# Cristiano without pen:\n",
        "ax = axs[\"pitch\"][1, 0]\n",
        "bin_statistic = pitch.bin_statistic(wopCrisPlotData[\"X\"],\n",
        "                                    wopCrisPlotData[\"Y\"],\n",
        "                                    statistic='count', bins=(35, 35))\n",
        "bin_statistic['statistic'] = gaussian_filter(bin_statistic['statistic'], 1)\n",
        "pcm = pitch.heatmap(bin_statistic, ax=ax,\n",
        "                    cmap='coolwarm', edgecolors='#22312b')\n",
        "ax.set_title(\"Cristiano Shot HeatMap (w/o Pens)\", fontsize=20)\n",
        "\n",
        "# Messi wo pen:\n",
        "ax = axs[\"pitch\"][1, 1]\n",
        "bin_statistic = pitch.bin_statistic(wopMessiPlotData[\"X\"],\n",
        "                                    wopMessiPlotData[\"Y\"],\n",
        "                                    statistic='count', bins=(35, 35))\n",
        "bin_statistic['statistic'] = gaussian_filter(bin_statistic['statistic'], 1)\n",
        "pcm = pitch.heatmap(bin_statistic, ax=ax,\n",
        "                    cmap='coolwarm', edgecolors='#22312b')\n",
        "ax.set_title(\"Messi Shot HeatMap (w/o Pens)\", fontsize=20)"
      ],
      "outputs": [],
      "metadata": {
        "id": "dWG2eicY1lin"
      }
    },
    {
      "cell_type": "markdown",
      "source": [
        "# Distance Analysis"
      ],
      "metadata": {
        "id": "HZ4eqz0mo6wW"
      }
    },
    {
      "cell_type": "markdown",
      "source": [
        "## Per 90 Columns"
      ],
      "metadata": {
        "id": "EtCVVd1nhndi"
      }
    },
    {
      "cell_type": "code",
      "execution_count": null,
      "source": [
        "season_wise_meta_df.columns"
      ],
      "outputs": [],
      "metadata": {
        "id": "Des5wvbNiBkB"
      }
    },
    {
      "cell_type": "code",
      "execution_count": null,
      "source": [
        "num_cols"
      ],
      "outputs": [],
      "metadata": {
        "id": "kmFBN5tgiOJ2"
      }
    },
    {
      "cell_type": "code",
      "execution_count": null,
      "source": [
        "for col in num_cols:\n",
        "    season_wise_meta_df[col + \"_p90\"] = season_wise_meta_df[col].divide(season_wise_meta_df[\"time\"]).multiply(90).round(2)"
      ],
      "outputs": [],
      "metadata": {
        "id": "aAPsnQ5zhrhm"
      }
    },
    {
      "cell_type": "markdown",
      "source": [
        "## Goals vs Shots (per season)"
      ],
      "metadata": {
        "id": "W9RKXNnr1iGT"
      }
    },
    {
      "cell_type": "code",
      "execution_count": null,
      "source": [
        "season_wise_meta_df.head()"
      ],
      "outputs": [],
      "metadata": {
        "id": "Um_MjJcqkEm1"
      }
    },
    {
      "cell_type": "code",
      "execution_count": null,
      "source": [
        "fig = px.scatter(x=\"shots_p90\", y=\"goals_p90\", data_frame=season_wise_meta_df,\n",
        "                 hover_name=\"season\", text=\"Player\", symbol=\"season\", color=\"season\", size=\"npg_p90\",\n",
        "                 opacity=.8)\n",
        "fig.add_trace(go.Scatter(x=[season_wise_meta_df[\"shots_p90\"].min(), season_wise_meta_df[\"shots_p90\"].max()],\n",
        "                         y=[season_wise_meta_df[\"goals_p90\"].mean(), season_wise_meta_df[\"goals_p90\"].mean()],\n",
        "                         name=\"Avg. Goals\"))\n",
        "fig.add_trace(go.Scatter(x=[season_wise_meta_df[\"shots_p90\"].mean(), season_wise_meta_df[\"shots_p90\"].mean()],\n",
        "                         y=[season_wise_meta_df[\"goals_p90\"].min(), season_wise_meta_df[\"goals_p90\"].max()],\n",
        "                         name=\"Avg. Shots\"))\n",
        "fig.update_traces(textposition='top center', textfont_size=10)\n",
        "fig.update_layout(showlegend=True, height=700, width=1200)\n",
        "fig.update(layout_coloraxis_colorbar_len=0.5, layout_coloraxis_colorbar_y=0.4)\n",
        "fig.show()"
      ],
      "outputs": [],
      "metadata": {
        "id": "jG8quZUtz2sC"
      }
    },
    {
      "cell_type": "markdown",
      "source": [
        "## Total Goals vs Total Expected Goals (per season)"
      ],
      "metadata": {
        "id": "hlw7uOnOSfCc"
      }
    },
    {
      "cell_type": "code",
      "execution_count": null,
      "source": [
        "fig = px.scatter(y=\"xG_p90\", x=\"goals_p90\", data_frame=season_wise_meta_df,\n",
        "                 hover_name=\"season\", text=\"Player\", symbol=\"season\",\n",
        "                 opacity=.8)\n",
        "fig.add_trace(go.Scatter(x=[season_wise_meta_df[[\"goals_p90\", \"xG_p90\"]].min().min(),\n",
        "                            season_wise_meta_df[[\"goals_p90\", \"xG_p90\"]].max().max()],\n",
        "                         y=[season_wise_meta_df[[\"goals_p90\", \"xG_p90\"]].min().min(),\n",
        "                            season_wise_meta_df[[\"goals_p90\", \"xG_p90\"]].max().max()]))\n",
        "fig.update_traces(textposition='top center', textfont_size=10, marker=dict(size=10))\n",
        "fig.update_layout(showlegend=True, height=700, width=1000)"
      ],
      "outputs": [],
      "metadata": {
        "id": "Lyl640nE-nrU"
      }
    },
    {
      "cell_type": "markdown",
      "source": [
        "# The Final Comparison"
      ],
      "metadata": {
        "id": "w21Hy21O2G3h"
      }
    },
    {
      "cell_type": "code",
      "execution_count": null,
      "source": [
        "season_wise_meta_df"
      ],
      "outputs": [],
      "metadata": {
        "id": "56p4vRFBRBs3"
      }
    },
    {
      "cell_type": "code",
      "execution_count": null,
      "source": [
        "radar_df = season_wise_meta_df.groupby([\"Player\"])[num_cols].sum().reset_index()"
      ],
      "outputs": [],
      "metadata": {
        "id": "l9Ys8o9xRGSg"
      }
    },
    {
      "cell_type": "code",
      "execution_count": null,
      "source": [
        "radar_df"
      ],
      "outputs": [],
      "metadata": {
        "id": "kjjLWqmHRIAZ"
      }
    },
    {
      "cell_type": "code",
      "execution_count": null,
      "source": [
        "radar_df.columns"
      ],
      "outputs": [],
      "metadata": {
        "id": "afBdu3stPACi"
      }
    },
    {
      "cell_type": "code",
      "execution_count": null,
      "source": [
        "cols_for_radar = ['goals', 'shots', 'xG', 'xGDiff',\n",
        "                  'assists', 'xA', 'key_passes',\n",
        "                  'npg', 'npxG', 'goal_contrib', 'xgoal_contrib', 'shot_contrib']"
      ],
      "outputs": [],
      "metadata": {
        "id": "b5pMWaMoPCYx"
      }
    },
    {
      "cell_type": "markdown",
      "source": [
        "## Radar Plot for Comparison Analysis"
      ],
      "metadata": {
        "id": "tQNyOpVX2Qhu"
      }
    },
    {
      "cell_type": "code",
      "execution_count": null,
      "source": [
        "# Initiate the plotly go figure\n",
        "fig = go.Figure()\n",
        "# Add Radar plots for different players:\n",
        "fig.add_trace(go.Scatterpolar(\n",
        "    r=radar_df.loc[(radar_df[\"Player\"] == \"Cristiano\"), cols_for_radar].values.flatten(),\n",
        "    theta=cols_for_radar,\n",
        "    fill='toself',\n",
        "    name='Cristiano'))\n",
        "fig.add_trace(go.Scatterpolar(\n",
        "    r=radar_df.loc[(radar_df[\"Player\"] == \"Messi\"), cols_for_radar].values.flatten(),\n",
        "    theta=cols_for_radar,\n",
        "    fill='toself',\n",
        "    name=\"Messi\"))\n",
        "# Additional properties for the plot:\n",
        "fig.update_layout(\n",
        "    title=\"Cristiano vs Messi\",\n",
        "polar=dict(\n",
        "    radialaxis=dict(\n",
        "    visible=True,\n",
        "    )),\n",
        "showlegend=True,\n",
        "template=\"plotly_dark\"\n",
        ")\n",
        "fig.show()"
      ],
      "outputs": [],
      "metadata": {
        "id": "dtdKcGsAzTMb"
      }
    },
    {
      "cell_type": "markdown",
      "source": [
        "## Per90 Radar Plot"
      ],
      "metadata": {
        "id": "7ouEFcpRPwNS"
      }
    },
    {
      "cell_type": "code",
      "execution_count": null,
      "source": [
        "per_90_cols"
      ],
      "outputs": [],
      "metadata": {
        "id": "vq4wisRmllKO"
      }
    },
    {
      "cell_type": "code",
      "execution_count": null,
      "source": [
        "cols_for_radar = ['goals_p90',\n",
        " 'shots_p90',\n",
        " 'xG_p90',\n",
        " 'xGDiff_p90',\n",
        " 'assists_p90',\n",
        " 'xA_p90',\n",
        " 'key_passes_p90',\n",
        " 'npg_p90',\n",
        " 'npxG_p90',\n",
        " 'goal_contrib_p90',\n",
        " 'xgoal_contrib_p90',\n",
        " 'shot_contrib_p90']"
      ],
      "outputs": [],
      "metadata": {
        "id": "L9F6eAdgPytf"
      }
    },
    {
      "cell_type": "code",
      "execution_count": null,
      "source": [
        "radar_df = season_wise_meta_df.groupby([\"Player\"])[cols_for_radar].sum().reset_index()"
      ],
      "outputs": [],
      "metadata": {
        "id": "G1VmvZqRQyzS"
      }
    },
    {
      "cell_type": "code",
      "execution_count": null,
      "source": [
        "# Initiate the plotly go figure\n",
        "fig = go.Figure()\n",
        "# Add Radar plots for different players:\n",
        "fig.add_trace(go.Scatterpolar(\n",
        "    r=radar_df.loc[(radar_df[\"Player\"] == \"Cristiano\"), cols_for_radar].sum(),\n",
        "    theta=cols_for_radar,\n",
        "    fill='toself',\n",
        "    name='Cristiano'))\n",
        "fig.add_trace(go.Scatterpolar(\n",
        "    r=radar_df.loc[(radar_df[\"Player\"] == \"Messi\"), cols_for_radar].sum(),\n",
        "    theta=cols_for_radar,\n",
        "    fill='toself',\n",
        "    name=\"Messi\"))\n",
        "# Additional properties for the plot:\n",
        "fig.update_layout(\n",
        "    title=\"Cristiano vs Messi\",\n",
        "polar=dict(\n",
        "    radialaxis=dict(\n",
        "    visible=True,\n",
        "    )),\n",
        "showlegend=True,\n",
        "template=\"plotly_dark\"\n",
        ")\n",
        "fig.show()"
      ],
      "outputs": [],
      "metadata": {
        "id": "Knsn1KBJQ91Q"
      }
    },
    {
      "cell_type": "markdown",
      "source": [
        "# Who Won?"
      ],
      "metadata": {
        "id": "IJDaB_ukRxU5"
      }
    }
  ]
}
